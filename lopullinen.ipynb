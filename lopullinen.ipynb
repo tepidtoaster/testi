{
 "cells": [
  {
   "cell_type": "code",
   "execution_count": 1,
   "metadata": {
    "collapsed": true
   },
   "outputs": [],
   "source": [
    "import numpy as np\n",
    "import pandas as pd\n",
    "from pandas import Series\n",
    "from pandas import DataFrame"
   ]
  },
  {
   "cell_type": "code",
   "execution_count": 9,
   "metadata": {
    "collapsed": false
   },
   "outputs": [
    {
     "name": "stderr",
     "output_type": "stream",
     "text": [
      "/usr/local/lib/python2.7/dist-packages/ipykernel/__main__.py:7: FutureWarning: sort is deprecated, use sort_values(inplace=True) for INPLACE sorting\n"
     ]
    }
   ],
   "source": [
    "# s1 = havaintoarvot\n",
    "s1 = Series([18.3, 16.2, 9.7, 19.9, 17.0, 18.2, 14.7, 16.9, 10.3, 21.5,\n",
    "             17.7, 11.0, 14.3, 19., 13.3, 12.9, 22.2, 20., 14.7, 9.3,\n",
    "             18.3, 16.2, 17., 13.9, 16.6, 21.2, 19.6, 16.7, 17.3, 9.9,\n",
    "             18., 16.7, 20.1, 15.3, 11.9, 19.3, 15.5, 14.0, 11.2, 19.7])\n",
    "# Suuruusjärjestykseen:\n",
    "s1.sort()"
   ]
  },
  {
   "cell_type": "code",
   "execution_count": 10,
   "metadata": {
    "collapsed": false,
    "scrolled": true
   },
   "outputs": [
    {
     "data": {
      "text/plain": [
       "19     9.3\n",
       "2      9.7\n",
       "29     9.9\n",
       "8     10.3\n",
       "11    11.0\n",
       "38    11.2\n",
       "34    11.9\n",
       "15    12.9\n",
       "14    13.3\n",
       "23    13.9\n",
       "37    14.0\n",
       "12    14.3\n",
       "6     14.7\n",
       "18    14.7\n",
       "33    15.3\n",
       "36    15.5\n",
       "1     16.2\n",
       "21    16.2\n",
       "24    16.6\n",
       "31    16.7\n",
       "27    16.7\n",
       "7     16.9\n",
       "22    17.0\n",
       "4     17.0\n",
       "28    17.3\n",
       "10    17.7\n",
       "30    18.0\n",
       "5     18.2\n",
       "0     18.3\n",
       "20    18.3\n",
       "13    19.0\n",
       "35    19.3\n",
       "26    19.6\n",
       "39    19.7\n",
       "3     19.9\n",
       "17    20.0\n",
       "32    20.1\n",
       "25    21.2\n",
       "9     21.5\n",
       "16    22.2\n",
       "dtype: float64"
      ]
     },
     "execution_count": 10,
     "metadata": {},
     "output_type": "execute_result"
    }
   ],
   "source": [
    "s1"
   ]
  },
  {
   "cell_type": "code",
   "execution_count": 18,
   "metadata": {
    "collapsed": true
   },
   "outputs": [],
   "source": [
    "# Luokkarajat\n",
    "bins = [6, 9., 12., 15., 18., 21., 24., 27]\n",
    "luokkien_nimet = ['[6.0-9.0[', '[9.0, 12.0[', '[12.0, 15.0[', '[15.0, 18.0[', '[18.0, 21.0[', '[21.0, 24.0[', '[24-27[']"
   ]
  },
  {
   "cell_type": "markdown",
   "metadata": {},
   "source": [
    "Voin tässä mielestäni käyttää luokkarajoina ns. pyöristettyjä luokkarajoja (*bins*), sillä Pythonin Pandas-moduulin pd.cut-toiminto tulee käsittelemään luokkarajoja siten, että luokkarajat ovat ylärajaansa nähden avoimia. Ts. x lisätään luokkaan, mikäli se täyttää seuraavat kriteerit luokan_alaraja ≤ x < luokan_yläraja. Tämän olisi voinut tehdä selvemminkin ja aluksi toteutin tämän seuraavasti:\n",
    "\n",
    "lista.sort()\n",
    "lista = np.array([18.3, 16.2, 9.7, 19.9, 17.0, 18.2, 14.7, 16.9, 10.3, 21.5, 17.7, 11.0, 14.3, 19., 13.3, 12.9,\n",
    "22.2, 20., 14.7, 9.3,18.3, 16.2, 17., 13.9, 16.6, 21.2, 19.6, 16.7, 17.3, 9.9,18., 16.7, 20.1, 15.3, 11.9, 19.3, 15.5, 14.0, 11.2, 19.7])\n",
    "\n",
    "#Luodaan viisi solua sisaltava lista, eli tavallaan 5x5 matriisi, johon sitten luokittelemme harvaintoarvot.\n",
    "Tämän jälkeen täytyy joko luoda vielä toinen samanlainen 5x5-matriisi, joka ei pidä sisällään alkuperäisiä havaintoarvoja vaan pelkästään tiedon siitä, montako havaintoarvoa, kuhunkin luokkaan sijoitimme.\n",
    "\n",
    "Listoihin viitataan lukuarvoilla 0-4, eli 0, pd[0], on pd:n ensimmäinen lista ja pd[4] viides lista.         \n",
    "        \n",
    "Luovuin tästä lähestymistavasta siitä syystä, että pandas-moduulin hyödyntäminen oli ilmeisesti tehokkaampaa."
   ]
  },
  {
   "cell_type": "code",
   "execution_count": 16,
   "metadata": {
    "collapsed": true
   },
   "outputs": [],
   "source": [
    "# Yläpuolella mainitsemani alkuperäinen lähestymistapa:\n",
    "\n",
    "#lista.sort()\n",
    "#lista = np.array([18.3, 16.2, 9.7, 19.9, 17.0, 18.2, 14.7, 16.9, 10.3, 21.5, 17.7, 11.0, 14.3, 19., 13.3, 12.9,\n",
    "#                  22.2, 20., 14.7, 9.3,18.3, 16.2, 17., 13.9, 16.6, 21.2, 19.6, 16.7, 17.3, 9.9,18., 16.7, 20.1, 15.3, 11.9, 19.3, 15.5, 14.0, 11.2, 19.7])\n",
    "\n",
    "#pd = [[] for _ in range(5)]\n",
    "#pd1 = [[] for _ in range(5)]\n",
    "\n",
    "#for i in lista:\n",
    "#    if i <= 11.9:\n",
    "#        pd[0].append(i)\n",
    "#        pd[0].append\n",
    "#        continue\n",
    "#    elif i <= 14.9:\n",
    "#        pd[1].append(i)\n",
    "#        pd1[1].append(len(pd[1]))\n",
    "#        continue\n",
    "#    elif i <= 17.9:\n",
    "#        pd[2].append(i)\n",
    "#        pd1[2].append(len(pd[2]))\n",
    "#        continue\n",
    "#    elif i <= 20.9:\n",
    "#        pd[3].append(i)\n",
    "#        pd1[3].append(len(pd[3]))\n",
    "#        continue\n",
    "#    else:\n",
    "#        pd[4].append(i)\n",
    "#        pd4[4].append(len(pd[4]))"
   ]
  },
  {
   "cell_type": "code",
   "execution_count": 14,
   "metadata": {
    "collapsed": false
   },
   "outputs": [
    {
     "data": {
      "text/html": [
       "<div>\n",
       "<table border=\"1\" class=\"dataframe\">\n",
       "  <thead>\n",
       "    <tr style=\"text-align: right;\">\n",
       "      <th></th>\n",
       "      <th>frekvenssit</th>\n",
       "    </tr>\n",
       "  </thead>\n",
       "  <tbody>\n",
       "    <tr>\n",
       "      <th>19</th>\n",
       "      <td>9.3</td>\n",
       "    </tr>\n",
       "    <tr>\n",
       "      <th>2</th>\n",
       "      <td>9.7</td>\n",
       "    </tr>\n",
       "    <tr>\n",
       "      <th>29</th>\n",
       "      <td>9.9</td>\n",
       "    </tr>\n",
       "    <tr>\n",
       "      <th>8</th>\n",
       "      <td>10.3</td>\n",
       "    </tr>\n",
       "    <tr>\n",
       "      <th>11</th>\n",
       "      <td>11.0</td>\n",
       "    </tr>\n",
       "    <tr>\n",
       "      <th>38</th>\n",
       "      <td>11.2</td>\n",
       "    </tr>\n",
       "    <tr>\n",
       "      <th>34</th>\n",
       "      <td>11.9</td>\n",
       "    </tr>\n",
       "    <tr>\n",
       "      <th>15</th>\n",
       "      <td>12.9</td>\n",
       "    </tr>\n",
       "    <tr>\n",
       "      <th>14</th>\n",
       "      <td>13.3</td>\n",
       "    </tr>\n",
       "    <tr>\n",
       "      <th>23</th>\n",
       "      <td>13.9</td>\n",
       "    </tr>\n",
       "    <tr>\n",
       "      <th>37</th>\n",
       "      <td>14.0</td>\n",
       "    </tr>\n",
       "    <tr>\n",
       "      <th>12</th>\n",
       "      <td>14.3</td>\n",
       "    </tr>\n",
       "    <tr>\n",
       "      <th>6</th>\n",
       "      <td>14.7</td>\n",
       "    </tr>\n",
       "    <tr>\n",
       "      <th>18</th>\n",
       "      <td>14.7</td>\n",
       "    </tr>\n",
       "    <tr>\n",
       "      <th>33</th>\n",
       "      <td>15.3</td>\n",
       "    </tr>\n",
       "    <tr>\n",
       "      <th>36</th>\n",
       "      <td>15.5</td>\n",
       "    </tr>\n",
       "    <tr>\n",
       "      <th>1</th>\n",
       "      <td>16.2</td>\n",
       "    </tr>\n",
       "    <tr>\n",
       "      <th>21</th>\n",
       "      <td>16.2</td>\n",
       "    </tr>\n",
       "    <tr>\n",
       "      <th>24</th>\n",
       "      <td>16.6</td>\n",
       "    </tr>\n",
       "    <tr>\n",
       "      <th>31</th>\n",
       "      <td>16.7</td>\n",
       "    </tr>\n",
       "    <tr>\n",
       "      <th>27</th>\n",
       "      <td>16.7</td>\n",
       "    </tr>\n",
       "    <tr>\n",
       "      <th>7</th>\n",
       "      <td>16.9</td>\n",
       "    </tr>\n",
       "    <tr>\n",
       "      <th>22</th>\n",
       "      <td>17.0</td>\n",
       "    </tr>\n",
       "    <tr>\n",
       "      <th>4</th>\n",
       "      <td>17.0</td>\n",
       "    </tr>\n",
       "    <tr>\n",
       "      <th>28</th>\n",
       "      <td>17.3</td>\n",
       "    </tr>\n",
       "    <tr>\n",
       "      <th>10</th>\n",
       "      <td>17.7</td>\n",
       "    </tr>\n",
       "    <tr>\n",
       "      <th>30</th>\n",
       "      <td>18.0</td>\n",
       "    </tr>\n",
       "    <tr>\n",
       "      <th>5</th>\n",
       "      <td>18.2</td>\n",
       "    </tr>\n",
       "    <tr>\n",
       "      <th>0</th>\n",
       "      <td>18.3</td>\n",
       "    </tr>\n",
       "    <tr>\n",
       "      <th>20</th>\n",
       "      <td>18.3</td>\n",
       "    </tr>\n",
       "    <tr>\n",
       "      <th>13</th>\n",
       "      <td>19.0</td>\n",
       "    </tr>\n",
       "    <tr>\n",
       "      <th>35</th>\n",
       "      <td>19.3</td>\n",
       "    </tr>\n",
       "    <tr>\n",
       "      <th>26</th>\n",
       "      <td>19.6</td>\n",
       "    </tr>\n",
       "    <tr>\n",
       "      <th>39</th>\n",
       "      <td>19.7</td>\n",
       "    </tr>\n",
       "    <tr>\n",
       "      <th>3</th>\n",
       "      <td>19.9</td>\n",
       "    </tr>\n",
       "    <tr>\n",
       "      <th>17</th>\n",
       "      <td>20.0</td>\n",
       "    </tr>\n",
       "    <tr>\n",
       "      <th>32</th>\n",
       "      <td>20.1</td>\n",
       "    </tr>\n",
       "    <tr>\n",
       "      <th>25</th>\n",
       "      <td>21.2</td>\n",
       "    </tr>\n",
       "    <tr>\n",
       "      <th>9</th>\n",
       "      <td>21.5</td>\n",
       "    </tr>\n",
       "    <tr>\n",
       "      <th>16</th>\n",
       "      <td>22.2</td>\n",
       "    </tr>\n",
       "  </tbody>\n",
       "</table>\n",
       "</div>"
      ],
      "text/plain": [
       "    frekvenssit\n",
       "19          9.3\n",
       "2           9.7\n",
       "29          9.9\n",
       "8          10.3\n",
       "11         11.0\n",
       "38         11.2\n",
       "34         11.9\n",
       "15         12.9\n",
       "14         13.3\n",
       "23         13.9\n",
       "37         14.0\n",
       "12         14.3\n",
       "6          14.7\n",
       "18         14.7\n",
       "33         15.3\n",
       "36         15.5\n",
       "1          16.2\n",
       "21         16.2\n",
       "24         16.6\n",
       "31         16.7\n",
       "27         16.7\n",
       "7          16.9\n",
       "22         17.0\n",
       "4          17.0\n",
       "28         17.3\n",
       "10         17.7\n",
       "30         18.0\n",
       "5          18.2\n",
       "0          18.3\n",
       "20         18.3\n",
       "13         19.0\n",
       "35         19.3\n",
       "26         19.6\n",
       "39         19.7\n",
       "3          19.9\n",
       "17         20.0\n",
       "32         20.1\n",
       "25         21.2\n",
       "9          21.5\n",
       "16         22.2"
      ]
     },
     "execution_count": 14,
     "metadata": {},
     "output_type": "execute_result"
    }
   ],
   "source": [
    "df = DataFrame({'frekvenssit':s1})\n",
    "df"
   ]
  },
  {
   "cell_type": "code",
   "execution_count": 19,
   "metadata": {
    "collapsed": false
   },
   "outputs": [
    {
     "data": {
      "text/html": [
       "<div>\n",
       "<table border=\"1\" class=\"dataframe\">\n",
       "  <thead>\n",
       "    <tr style=\"text-align: right;\">\n",
       "      <th></th>\n",
       "      <th>frekvenssit</th>\n",
       "      <th>luokat</th>\n",
       "    </tr>\n",
       "  </thead>\n",
       "  <tbody>\n",
       "    <tr>\n",
       "      <th>19</th>\n",
       "      <td>9.3</td>\n",
       "      <td>[9.0, 12.0[</td>\n",
       "    </tr>\n",
       "    <tr>\n",
       "      <th>2</th>\n",
       "      <td>9.7</td>\n",
       "      <td>[9.0, 12.0[</td>\n",
       "    </tr>\n",
       "    <tr>\n",
       "      <th>29</th>\n",
       "      <td>9.9</td>\n",
       "      <td>[9.0, 12.0[</td>\n",
       "    </tr>\n",
       "    <tr>\n",
       "      <th>8</th>\n",
       "      <td>10.3</td>\n",
       "      <td>[9.0, 12.0[</td>\n",
       "    </tr>\n",
       "    <tr>\n",
       "      <th>11</th>\n",
       "      <td>11.0</td>\n",
       "      <td>[9.0, 12.0[</td>\n",
       "    </tr>\n",
       "    <tr>\n",
       "      <th>38</th>\n",
       "      <td>11.2</td>\n",
       "      <td>[9.0, 12.0[</td>\n",
       "    </tr>\n",
       "    <tr>\n",
       "      <th>34</th>\n",
       "      <td>11.9</td>\n",
       "      <td>[9.0, 12.0[</td>\n",
       "    </tr>\n",
       "    <tr>\n",
       "      <th>15</th>\n",
       "      <td>12.9</td>\n",
       "      <td>[12.0, 15.0[</td>\n",
       "    </tr>\n",
       "    <tr>\n",
       "      <th>14</th>\n",
       "      <td>13.3</td>\n",
       "      <td>[12.0, 15.0[</td>\n",
       "    </tr>\n",
       "    <tr>\n",
       "      <th>23</th>\n",
       "      <td>13.9</td>\n",
       "      <td>[12.0, 15.0[</td>\n",
       "    </tr>\n",
       "    <tr>\n",
       "      <th>37</th>\n",
       "      <td>14.0</td>\n",
       "      <td>[12.0, 15.0[</td>\n",
       "    </tr>\n",
       "    <tr>\n",
       "      <th>12</th>\n",
       "      <td>14.3</td>\n",
       "      <td>[12.0, 15.0[</td>\n",
       "    </tr>\n",
       "    <tr>\n",
       "      <th>6</th>\n",
       "      <td>14.7</td>\n",
       "      <td>[12.0, 15.0[</td>\n",
       "    </tr>\n",
       "    <tr>\n",
       "      <th>18</th>\n",
       "      <td>14.7</td>\n",
       "      <td>[12.0, 15.0[</td>\n",
       "    </tr>\n",
       "    <tr>\n",
       "      <th>33</th>\n",
       "      <td>15.3</td>\n",
       "      <td>[15.0, 18.0[</td>\n",
       "    </tr>\n",
       "    <tr>\n",
       "      <th>36</th>\n",
       "      <td>15.5</td>\n",
       "      <td>[15.0, 18.0[</td>\n",
       "    </tr>\n",
       "    <tr>\n",
       "      <th>1</th>\n",
       "      <td>16.2</td>\n",
       "      <td>[15.0, 18.0[</td>\n",
       "    </tr>\n",
       "    <tr>\n",
       "      <th>21</th>\n",
       "      <td>16.2</td>\n",
       "      <td>[15.0, 18.0[</td>\n",
       "    </tr>\n",
       "    <tr>\n",
       "      <th>24</th>\n",
       "      <td>16.6</td>\n",
       "      <td>[15.0, 18.0[</td>\n",
       "    </tr>\n",
       "    <tr>\n",
       "      <th>31</th>\n",
       "      <td>16.7</td>\n",
       "      <td>[15.0, 18.0[</td>\n",
       "    </tr>\n",
       "    <tr>\n",
       "      <th>27</th>\n",
       "      <td>16.7</td>\n",
       "      <td>[15.0, 18.0[</td>\n",
       "    </tr>\n",
       "    <tr>\n",
       "      <th>7</th>\n",
       "      <td>16.9</td>\n",
       "      <td>[15.0, 18.0[</td>\n",
       "    </tr>\n",
       "    <tr>\n",
       "      <th>22</th>\n",
       "      <td>17.0</td>\n",
       "      <td>[15.0, 18.0[</td>\n",
       "    </tr>\n",
       "    <tr>\n",
       "      <th>4</th>\n",
       "      <td>17.0</td>\n",
       "      <td>[15.0, 18.0[</td>\n",
       "    </tr>\n",
       "    <tr>\n",
       "      <th>28</th>\n",
       "      <td>17.3</td>\n",
       "      <td>[15.0, 18.0[</td>\n",
       "    </tr>\n",
       "    <tr>\n",
       "      <th>10</th>\n",
       "      <td>17.7</td>\n",
       "      <td>[15.0, 18.0[</td>\n",
       "    </tr>\n",
       "    <tr>\n",
       "      <th>30</th>\n",
       "      <td>18.0</td>\n",
       "      <td>[18.0, 21.0[</td>\n",
       "    </tr>\n",
       "    <tr>\n",
       "      <th>5</th>\n",
       "      <td>18.2</td>\n",
       "      <td>[18.0, 21.0[</td>\n",
       "    </tr>\n",
       "    <tr>\n",
       "      <th>0</th>\n",
       "      <td>18.3</td>\n",
       "      <td>[18.0, 21.0[</td>\n",
       "    </tr>\n",
       "    <tr>\n",
       "      <th>20</th>\n",
       "      <td>18.3</td>\n",
       "      <td>[18.0, 21.0[</td>\n",
       "    </tr>\n",
       "    <tr>\n",
       "      <th>13</th>\n",
       "      <td>19.0</td>\n",
       "      <td>[18.0, 21.0[</td>\n",
       "    </tr>\n",
       "    <tr>\n",
       "      <th>35</th>\n",
       "      <td>19.3</td>\n",
       "      <td>[18.0, 21.0[</td>\n",
       "    </tr>\n",
       "    <tr>\n",
       "      <th>26</th>\n",
       "      <td>19.6</td>\n",
       "      <td>[18.0, 21.0[</td>\n",
       "    </tr>\n",
       "    <tr>\n",
       "      <th>39</th>\n",
       "      <td>19.7</td>\n",
       "      <td>[18.0, 21.0[</td>\n",
       "    </tr>\n",
       "    <tr>\n",
       "      <th>3</th>\n",
       "      <td>19.9</td>\n",
       "      <td>[18.0, 21.0[</td>\n",
       "    </tr>\n",
       "    <tr>\n",
       "      <th>17</th>\n",
       "      <td>20.0</td>\n",
       "      <td>[18.0, 21.0[</td>\n",
       "    </tr>\n",
       "    <tr>\n",
       "      <th>32</th>\n",
       "      <td>20.1</td>\n",
       "      <td>[18.0, 21.0[</td>\n",
       "    </tr>\n",
       "    <tr>\n",
       "      <th>25</th>\n",
       "      <td>21.2</td>\n",
       "      <td>[21.0, 24.0[</td>\n",
       "    </tr>\n",
       "    <tr>\n",
       "      <th>9</th>\n",
       "      <td>21.5</td>\n",
       "      <td>[21.0, 24.0[</td>\n",
       "    </tr>\n",
       "    <tr>\n",
       "      <th>16</th>\n",
       "      <td>22.2</td>\n",
       "      <td>[21.0, 24.0[</td>\n",
       "    </tr>\n",
       "  </tbody>\n",
       "</table>\n",
       "</div>"
      ],
      "text/plain": [
       "    frekvenssit        luokat\n",
       "19          9.3   [9.0, 12.0[\n",
       "2           9.7   [9.0, 12.0[\n",
       "29          9.9   [9.0, 12.0[\n",
       "8          10.3   [9.0, 12.0[\n",
       "11         11.0   [9.0, 12.0[\n",
       "38         11.2   [9.0, 12.0[\n",
       "34         11.9   [9.0, 12.0[\n",
       "15         12.9  [12.0, 15.0[\n",
       "14         13.3  [12.0, 15.0[\n",
       "23         13.9  [12.0, 15.0[\n",
       "37         14.0  [12.0, 15.0[\n",
       "12         14.3  [12.0, 15.0[\n",
       "6          14.7  [12.0, 15.0[\n",
       "18         14.7  [12.0, 15.0[\n",
       "33         15.3  [15.0, 18.0[\n",
       "36         15.5  [15.0, 18.0[\n",
       "1          16.2  [15.0, 18.0[\n",
       "21         16.2  [15.0, 18.0[\n",
       "24         16.6  [15.0, 18.0[\n",
       "31         16.7  [15.0, 18.0[\n",
       "27         16.7  [15.0, 18.0[\n",
       "7          16.9  [15.0, 18.0[\n",
       "22         17.0  [15.0, 18.0[\n",
       "4          17.0  [15.0, 18.0[\n",
       "28         17.3  [15.0, 18.0[\n",
       "10         17.7  [15.0, 18.0[\n",
       "30         18.0  [18.0, 21.0[\n",
       "5          18.2  [18.0, 21.0[\n",
       "0          18.3  [18.0, 21.0[\n",
       "20         18.3  [18.0, 21.0[\n",
       "13         19.0  [18.0, 21.0[\n",
       "35         19.3  [18.0, 21.0[\n",
       "26         19.6  [18.0, 21.0[\n",
       "39         19.7  [18.0, 21.0[\n",
       "3          19.9  [18.0, 21.0[\n",
       "17         20.0  [18.0, 21.0[\n",
       "32         20.1  [18.0, 21.0[\n",
       "25         21.2  [21.0, 24.0[\n",
       "9          21.5  [21.0, 24.0[\n",
       "16         22.2  [21.0, 24.0["
      ]
     },
     "execution_count": 19,
     "metadata": {},
     "output_type": "execute_result"
    }
   ],
   "source": [
    "# Nyt kun havaintoarvot on saatu df1 nimiseen Pandasin DataFrameen, otetaan varmuuskopio nimeltä df2 ja muokataan\n",
    "# jatkossa sitä:\n",
    "df2 = df\n",
    " \n",
    "# Nyt jaan havaintoarvot em. luokkiin. bins = luokkarajat, labels lista, johon kirjoitin luokille haluamani nimet.\n",
    "# right = False tässä tärkein kohta. Sillä määrittelen, että yläraja on avoin väli eikä suljettu:\n",
    "df2['luokat'] = pd.cut(df['frekvenssit'], bins, labels=luokkien_nimet, right=False)\n",
    "df2"
   ]
  },
  {
   "cell_type": "code",
   "execution_count": 20,
   "metadata": {
    "collapsed": false
   },
   "outputs": [
    {
     "data": {
      "text/plain": [
       "luokat\n",
       "[6.0-9.0[        0\n",
       "[9.0, 12.0[      7\n",
       "[12.0, 15.0[     7\n",
       "[15.0, 18.0[    12\n",
       "[18.0, 21.0[    11\n",
       "[21.0, 24.0[     3\n",
       "[24-27[          0\n",
       "dtype: int64"
      ]
     },
     "execution_count": 20,
     "metadata": {},
     "output_type": "execute_result"
    }
   ],
   "source": [
    "# Nyt vielä hankkiudutaan eroon havaintoarvoista, joita emme oikeastaan tarvitse ja otetaan niiden tilalle\n",
    "# kunkin luokan lukumäärät. Tästä syystä nimesin havaintoarvot sisältävät pystysarakkeen frekvensseiksi jo heti\n",
    "# alussa."
   ]
  },
  {
   "cell_type": "code",
   "execution_count": 25,
   "metadata": {
    "collapsed": false
   },
   "outputs": [],
   "source": [
    "#Taas varmuuskopio\n",
    "df3 = df2\n",
    "# df7:aan viimein muutokset\n",
    "df7 = df3.groupby([\"luokat\"], as_index=False).count()"
   ]
  },
  {
   "cell_type": "code",
   "execution_count": 26,
   "metadata": {
    "collapsed": false
   },
   "outputs": [
    {
     "data": {
      "text/html": [
       "<div>\n",
       "<table border=\"1\" class=\"dataframe\">\n",
       "  <thead>\n",
       "    <tr style=\"text-align: right;\">\n",
       "      <th></th>\n",
       "      <th>luokat</th>\n",
       "      <th>frekvenssit</th>\n",
       "    </tr>\n",
       "  </thead>\n",
       "  <tbody>\n",
       "    <tr>\n",
       "      <th>0</th>\n",
       "      <td>[6.0-9.0[</td>\n",
       "      <td>0</td>\n",
       "    </tr>\n",
       "    <tr>\n",
       "      <th>1</th>\n",
       "      <td>[9.0, 12.0[</td>\n",
       "      <td>7</td>\n",
       "    </tr>\n",
       "    <tr>\n",
       "      <th>2</th>\n",
       "      <td>[12.0, 15.0[</td>\n",
       "      <td>7</td>\n",
       "    </tr>\n",
       "    <tr>\n",
       "      <th>3</th>\n",
       "      <td>[15.0, 18.0[</td>\n",
       "      <td>12</td>\n",
       "    </tr>\n",
       "    <tr>\n",
       "      <th>4</th>\n",
       "      <td>[18.0, 21.0[</td>\n",
       "      <td>11</td>\n",
       "    </tr>\n",
       "    <tr>\n",
       "      <th>5</th>\n",
       "      <td>[21.0, 24.0[</td>\n",
       "      <td>3</td>\n",
       "    </tr>\n",
       "    <tr>\n",
       "      <th>6</th>\n",
       "      <td>[24-27[</td>\n",
       "      <td>0</td>\n",
       "    </tr>\n",
       "  </tbody>\n",
       "</table>\n",
       "</div>"
      ],
      "text/plain": [
       "         luokat  frekvenssit\n",
       "0     [6.0-9.0[            0\n",
       "1   [9.0, 12.0[            7\n",
       "2  [12.0, 15.0[            7\n",
       "3  [15.0, 18.0[           12\n",
       "4  [18.0, 21.0[           11\n",
       "5  [21.0, 24.0[            3\n",
       "6       [24-27[            0"
      ]
     },
     "execution_count": 26,
     "metadata": {},
     "output_type": "execute_result"
    }
   ],
   "source": [
    "df7"
   ]
  },
  {
   "cell_type": "code",
   "execution_count": 27,
   "metadata": {
    "collapsed": true
   },
   "outputs": [],
   "source": [
    "# Lasketaan suhteelliset frekvenssit:\n",
    "df7['suhteellinen frekvenssi (%)'] = df7['frekvenssit']/40.*100"
   ]
  },
  {
   "cell_type": "code",
   "execution_count": 28,
   "metadata": {
    "collapsed": false
   },
   "outputs": [
    {
     "data": {
      "text/html": [
       "<div>\n",
       "<table border=\"1\" class=\"dataframe\">\n",
       "  <thead>\n",
       "    <tr style=\"text-align: right;\">\n",
       "      <th></th>\n",
       "      <th>luokat</th>\n",
       "      <th>frekvenssit</th>\n",
       "      <th>suhteellinen frekvenssi (%)</th>\n",
       "    </tr>\n",
       "  </thead>\n",
       "  <tbody>\n",
       "    <tr>\n",
       "      <th>0</th>\n",
       "      <td>[6.0-9.0[</td>\n",
       "      <td>0</td>\n",
       "      <td>0.0</td>\n",
       "    </tr>\n",
       "    <tr>\n",
       "      <th>1</th>\n",
       "      <td>[9.0, 12.0[</td>\n",
       "      <td>7</td>\n",
       "      <td>17.5</td>\n",
       "    </tr>\n",
       "    <tr>\n",
       "      <th>2</th>\n",
       "      <td>[12.0, 15.0[</td>\n",
       "      <td>7</td>\n",
       "      <td>17.5</td>\n",
       "    </tr>\n",
       "    <tr>\n",
       "      <th>3</th>\n",
       "      <td>[15.0, 18.0[</td>\n",
       "      <td>12</td>\n",
       "      <td>30.0</td>\n",
       "    </tr>\n",
       "    <tr>\n",
       "      <th>4</th>\n",
       "      <td>[18.0, 21.0[</td>\n",
       "      <td>11</td>\n",
       "      <td>27.5</td>\n",
       "    </tr>\n",
       "    <tr>\n",
       "      <th>5</th>\n",
       "      <td>[21.0, 24.0[</td>\n",
       "      <td>3</td>\n",
       "      <td>7.5</td>\n",
       "    </tr>\n",
       "    <tr>\n",
       "      <th>6</th>\n",
       "      <td>[24-27[</td>\n",
       "      <td>0</td>\n",
       "      <td>0.0</td>\n",
       "    </tr>\n",
       "  </tbody>\n",
       "</table>\n",
       "</div>"
      ],
      "text/plain": [
       "         luokat  frekvenssit  suhteellinen frekvenssi (%)\n",
       "0     [6.0-9.0[            0                          0.0\n",
       "1   [9.0, 12.0[            7                         17.5\n",
       "2  [12.0, 15.0[            7                         17.5\n",
       "3  [15.0, 18.0[           12                         30.0\n",
       "4  [18.0, 21.0[           11                         27.5\n",
       "5  [21.0, 24.0[            3                          7.5\n",
       "6       [24-27[            0                          0.0"
      ]
     },
     "execution_count": 28,
     "metadata": {},
     "output_type": "execute_result"
    }
   ],
   "source": [
    "df7"
   ]
  },
  {
   "cell_type": "code",
   "execution_count": 29,
   "metadata": {
    "collapsed": true
   },
   "outputs": [],
   "source": [
    "df7['summafrekvenssi']=df7['frekvenssit'].cumsum()"
   ]
  },
  {
   "cell_type": "code",
   "execution_count": 30,
   "metadata": {
    "collapsed": false
   },
   "outputs": [
    {
     "data": {
      "text/html": [
       "<div>\n",
       "<table border=\"1\" class=\"dataframe\">\n",
       "  <thead>\n",
       "    <tr style=\"text-align: right;\">\n",
       "      <th></th>\n",
       "      <th>luokat</th>\n",
       "      <th>frekvenssit</th>\n",
       "      <th>suhteellinen frekvenssi (%)</th>\n",
       "      <th>summafrekvenssi</th>\n",
       "    </tr>\n",
       "  </thead>\n",
       "  <tbody>\n",
       "    <tr>\n",
       "      <th>0</th>\n",
       "      <td>[6.0-9.0[</td>\n",
       "      <td>0</td>\n",
       "      <td>0.0</td>\n",
       "      <td>0</td>\n",
       "    </tr>\n",
       "    <tr>\n",
       "      <th>1</th>\n",
       "      <td>[9.0, 12.0[</td>\n",
       "      <td>7</td>\n",
       "      <td>17.5</td>\n",
       "      <td>7</td>\n",
       "    </tr>\n",
       "    <tr>\n",
       "      <th>2</th>\n",
       "      <td>[12.0, 15.0[</td>\n",
       "      <td>7</td>\n",
       "      <td>17.5</td>\n",
       "      <td>14</td>\n",
       "    </tr>\n",
       "    <tr>\n",
       "      <th>3</th>\n",
       "      <td>[15.0, 18.0[</td>\n",
       "      <td>12</td>\n",
       "      <td>30.0</td>\n",
       "      <td>26</td>\n",
       "    </tr>\n",
       "    <tr>\n",
       "      <th>4</th>\n",
       "      <td>[18.0, 21.0[</td>\n",
       "      <td>11</td>\n",
       "      <td>27.5</td>\n",
       "      <td>37</td>\n",
       "    </tr>\n",
       "    <tr>\n",
       "      <th>5</th>\n",
       "      <td>[21.0, 24.0[</td>\n",
       "      <td>3</td>\n",
       "      <td>7.5</td>\n",
       "      <td>40</td>\n",
       "    </tr>\n",
       "    <tr>\n",
       "      <th>6</th>\n",
       "      <td>[24-27[</td>\n",
       "      <td>0</td>\n",
       "      <td>0.0</td>\n",
       "      <td>40</td>\n",
       "    </tr>\n",
       "  </tbody>\n",
       "</table>\n",
       "</div>"
      ],
      "text/plain": [
       "         luokat  frekvenssit  suhteellinen frekvenssi (%)  summafrekvenssi\n",
       "0     [6.0-9.0[            0                          0.0                0\n",
       "1   [9.0, 12.0[            7                         17.5                7\n",
       "2  [12.0, 15.0[            7                         17.5               14\n",
       "3  [15.0, 18.0[           12                         30.0               26\n",
       "4  [18.0, 21.0[           11                         27.5               37\n",
       "5  [21.0, 24.0[            3                          7.5               40\n",
       "6       [24-27[            0                          0.0               40"
      ]
     },
     "execution_count": 30,
     "metadata": {},
     "output_type": "execute_result"
    }
   ],
   "source": [
    "df7"
   ]
  },
  {
   "cell_type": "code",
   "execution_count": 31,
   "metadata": {
    "collapsed": true
   },
   "outputs": [],
   "source": [
    "df7['suhteellinen summafrekvenssi (%)']=100*df7['summafrekvenssi']/df7['frekvenssit'].sum()"
   ]
  },
  {
   "cell_type": "code",
   "execution_count": 32,
   "metadata": {
    "collapsed": false
   },
   "outputs": [
    {
     "data": {
      "text/html": [
       "<div>\n",
       "<table border=\"1\" class=\"dataframe\">\n",
       "  <thead>\n",
       "    <tr style=\"text-align: right;\">\n",
       "      <th></th>\n",
       "      <th>luokat</th>\n",
       "      <th>frekvenssit</th>\n",
       "      <th>suhteellinen frekvenssi (%)</th>\n",
       "      <th>summafrekvenssi</th>\n",
       "      <th>suhteellinen summafrekvenssi (%)</th>\n",
       "    </tr>\n",
       "  </thead>\n",
       "  <tbody>\n",
       "    <tr>\n",
       "      <th>0</th>\n",
       "      <td>[6.0-9.0[</td>\n",
       "      <td>0</td>\n",
       "      <td>0.0</td>\n",
       "      <td>0</td>\n",
       "      <td>0.0</td>\n",
       "    </tr>\n",
       "    <tr>\n",
       "      <th>1</th>\n",
       "      <td>[9.0, 12.0[</td>\n",
       "      <td>7</td>\n",
       "      <td>17.5</td>\n",
       "      <td>7</td>\n",
       "      <td>17.5</td>\n",
       "    </tr>\n",
       "    <tr>\n",
       "      <th>2</th>\n",
       "      <td>[12.0, 15.0[</td>\n",
       "      <td>7</td>\n",
       "      <td>17.5</td>\n",
       "      <td>14</td>\n",
       "      <td>35.0</td>\n",
       "    </tr>\n",
       "    <tr>\n",
       "      <th>3</th>\n",
       "      <td>[15.0, 18.0[</td>\n",
       "      <td>12</td>\n",
       "      <td>30.0</td>\n",
       "      <td>26</td>\n",
       "      <td>65.0</td>\n",
       "    </tr>\n",
       "    <tr>\n",
       "      <th>4</th>\n",
       "      <td>[18.0, 21.0[</td>\n",
       "      <td>11</td>\n",
       "      <td>27.5</td>\n",
       "      <td>37</td>\n",
       "      <td>92.5</td>\n",
       "    </tr>\n",
       "    <tr>\n",
       "      <th>5</th>\n",
       "      <td>[21.0, 24.0[</td>\n",
       "      <td>3</td>\n",
       "      <td>7.5</td>\n",
       "      <td>40</td>\n",
       "      <td>100.0</td>\n",
       "    </tr>\n",
       "    <tr>\n",
       "      <th>6</th>\n",
       "      <td>[24-27[</td>\n",
       "      <td>0</td>\n",
       "      <td>0.0</td>\n",
       "      <td>40</td>\n",
       "      <td>100.0</td>\n",
       "    </tr>\n",
       "  </tbody>\n",
       "</table>\n",
       "</div>"
      ],
      "text/plain": [
       "         luokat  frekvenssit  suhteellinen frekvenssi (%)  summafrekvenssi  \\\n",
       "0     [6.0-9.0[            0                          0.0                0   \n",
       "1   [9.0, 12.0[            7                         17.5                7   \n",
       "2  [12.0, 15.0[            7                         17.5               14   \n",
       "3  [15.0, 18.0[           12                         30.0               26   \n",
       "4  [18.0, 21.0[           11                         27.5               37   \n",
       "5  [21.0, 24.0[            3                          7.5               40   \n",
       "6       [24-27[            0                          0.0               40   \n",
       "\n",
       "   suhteellinen summafrekvenssi (%)  \n",
       "0                               0.0  \n",
       "1                              17.5  \n",
       "2                              35.0  \n",
       "3                              65.0  \n",
       "4                              92.5  \n",
       "5                             100.0  \n",
       "6                             100.0  "
      ]
     },
     "execution_count": 32,
     "metadata": {},
     "output_type": "execute_result"
    }
   ],
   "source": [
    "df7"
   ]
  },
  {
   "cell_type": "code",
   "execution_count": 35,
   "metadata": {
    "collapsed": true
   },
   "outputs": [],
   "source": [
    "# frekvenssihistogrammit teen a_bins-nimisellä muuttujalla\n",
    "a_bins = df['frekvenssit'].groupby(pd.cut(df['frekvenssit'], bins)).count()\n",
    "\n",
    "# Tarvittavat lisäosat kuvaajien piirtämiseen\n",
    "import matplotlib.pyplot as plt\n",
    "%matplotlib inline\n",
    "import matplotlib\n",
    "matplotlib.style.use('ggplot')"
   ]
  },
  {
   "cell_type": "code",
   "execution_count": 38,
   "metadata": {
    "collapsed": true
   },
   "outputs": [],
   "source": [
    "# Ei anneta minkään histogrammiin palkin osua kuvaajan yläreunaan, joten lisätään seuraavat\n",
    "# asetukset\n",
    "pos = np.arange(len(a_bins))\n",
    "width = 1.0"
   ]
  },
  {
   "cell_type": "code",
   "execution_count": 39,
   "metadata": {
    "collapsed": false
   },
   "outputs": [
    {
     "data": {
      "image/png": "[encoded data removed]",
      "text/plain": [
       "<matplotlib.figure.Figure at 0x7f2a6ac9a290>"
      ]
     },
     "metadata": {},
     "output_type": "display_data"
    }
   ],
   "source": [
    "ax = plt.axes()\n",
    "ax.set_xticks(pos + (width/2))\n",
    "ax.set_xticklabels(luokkien_nimet)\n",
    "plt.bar(pos, a_bins, width, color=\"r\")\n",
    "plt.show()"
   ]
  },
  {
   "cell_type": "code",
   "execution_count": 41,
   "metadata": {
    "collapsed": false,
    "scrolled": false
   },
   "outputs": [
    {
     "data": {
      "text/html": [
       "<div>\n",
       "<table border=\"1\" class=\"dataframe\">\n",
       "  <thead>\n",
       "    <tr style=\"text-align: right;\">\n",
       "      <th></th>\n",
       "      <th>luokat</th>\n",
       "      <th>frekvenssit</th>\n",
       "      <th>suhteellinen frekvenssi (%)</th>\n",
       "      <th>summafrekvenssi</th>\n",
       "      <th>suhteellinen summafrekvenssi (%)</th>\n",
       "      <th>mi</th>\n",
       "    </tr>\n",
       "  </thead>\n",
       "  <tbody>\n",
       "    <tr>\n",
       "      <th>0</th>\n",
       "      <td>[6.0-9.0[</td>\n",
       "      <td>0</td>\n",
       "      <td>0.0</td>\n",
       "      <td>0</td>\n",
       "      <td>0.0</td>\n",
       "      <td>7.5</td>\n",
       "    </tr>\n",
       "    <tr>\n",
       "      <th>1</th>\n",
       "      <td>[9.0, 12.0[</td>\n",
       "      <td>7</td>\n",
       "      <td>17.5</td>\n",
       "      <td>7</td>\n",
       "      <td>17.5</td>\n",
       "      <td>10.5</td>\n",
       "    </tr>\n",
       "    <tr>\n",
       "      <th>2</th>\n",
       "      <td>[12.0, 15.0[</td>\n",
       "      <td>7</td>\n",
       "      <td>17.5</td>\n",
       "      <td>14</td>\n",
       "      <td>35.0</td>\n",
       "      <td>13.5</td>\n",
       "    </tr>\n",
       "    <tr>\n",
       "      <th>3</th>\n",
       "      <td>[15.0, 18.0[</td>\n",
       "      <td>12</td>\n",
       "      <td>30.0</td>\n",
       "      <td>26</td>\n",
       "      <td>65.0</td>\n",
       "      <td>16.5</td>\n",
       "    </tr>\n",
       "    <tr>\n",
       "      <th>4</th>\n",
       "      <td>[18.0, 21.0[</td>\n",
       "      <td>11</td>\n",
       "      <td>27.5</td>\n",
       "      <td>37</td>\n",
       "      <td>92.5</td>\n",
       "      <td>19.5</td>\n",
       "    </tr>\n",
       "    <tr>\n",
       "      <th>5</th>\n",
       "      <td>[21.0, 24.0[</td>\n",
       "      <td>3</td>\n",
       "      <td>7.5</td>\n",
       "      <td>40</td>\n",
       "      <td>100.0</td>\n",
       "      <td>22.5</td>\n",
       "    </tr>\n",
       "    <tr>\n",
       "      <th>6</th>\n",
       "      <td>[24-27[</td>\n",
       "      <td>0</td>\n",
       "      <td>0.0</td>\n",
       "      <td>40</td>\n",
       "      <td>100.0</td>\n",
       "      <td>25.5</td>\n",
       "    </tr>\n",
       "  </tbody>\n",
       "</table>\n",
       "</div>"
      ],
      "text/plain": [
       "         luokat  frekvenssit  suhteellinen frekvenssi (%)  summafrekvenssi  \\\n",
       "0     [6.0-9.0[            0                          0.0                0   \n",
       "1   [9.0, 12.0[            7                         17.5                7   \n",
       "2  [12.0, 15.0[            7                         17.5               14   \n",
       "3  [15.0, 18.0[           12                         30.0               26   \n",
       "4  [18.0, 21.0[           11                         27.5               37   \n",
       "5  [21.0, 24.0[            3                          7.5               40   \n",
       "6       [24-27[            0                          0.0               40   \n",
       "\n",
       "   suhteellinen summafrekvenssi (%)    mi  \n",
       "0                               0.0   7.5  \n",
       "1                              17.5  10.5  \n",
       "2                              35.0  13.5  \n",
       "3                              65.0  16.5  \n",
       "4                              92.5  19.5  \n",
       "5                             100.0  22.5  \n",
       "6                             100.0  25.5  "
      ]
     },
     "execution_count": 41,
     "metadata": {},
     "output_type": "execute_result"
    }
   ],
   "source": [
    "df8 = df7\n",
    "df8['mi'] = [\"7.5\", \"10.5\", \"13.5\", \"16.5\", \"19.5\", \"22.5\", \"25.5\"]\n",
    "df8"
   ]
  },
  {
   "cell_type": "code",
   "execution_count": 43,
   "metadata": {
    "collapsed": false
   },
   "outputs": [
    {
     "data": {
      "text/plain": [
       "<matplotlib.text.Text at 0x7f2a650d1a50>"
      ]
     },
     "execution_count": 43,
     "metadata": {},
     "output_type": "execute_result"
    },
    {
     "data": {
      "image/png": "[encoded data removed]",
      "text/plain": [
       "<matplotlib.figure.Figure at 0x7f2a64fc08d0>"
      ]
     },
     "metadata": {},
     "output_type": "display_data"
    }
   ],
   "source": [
    "#mi = [\"7.5\", \"10.5\", \"13.5\", \"16.5\", \"19.5\", \"22.5\", \"25.5\"]\n",
    "ax = df8['frekvenssit'].plot(kind='line')\n",
    "ax.set_xticklabels(df8.mi)\n",
    "plt.axis([0, 6, 0, 14])\n",
    "plt.xlabel('frekvenssimonikulmio')"
   ]
  },
  {
   "cell_type": "code",
   "execution_count": 47,
   "metadata": {
    "collapsed": false,
    "scrolled": true
   },
   "outputs": [
    {
     "data": {
      "image/png": "[encoded data removed]",
      "text/plain": [
       "<matplotlib.figure.Figure at 0x7f2a64d65850>"
      ]
     },
     "metadata": {},
     "output_type": "display_data"
    }
   ],
   "source": [
    "ax = plt.axes()\n",
    "ax.set_xticks(pos + (width/2))\n",
    "ax.set_xticklabels(luokkien_nimet)\n",
    "plt.axis([0, 6.5, 0, 105])\n",
    "plt.plot(df7[\"suhteellinen summafrekvenssi (%)\"], color=\"r\")\n",
    "plt.title(\"Lampun kestoika (100 h)\")\n",
    "plt.show()\n"
   ]
  },
  {
   "cell_type": "code",
   "execution_count": 48,
   "metadata": {
    "collapsed": false
   },
   "outputs": [
    {
     "name": "stdout",
     "output_type": "stream",
     "text": [
      "16.7\n"
     ]
    }
   ],
   "source": [
    "import statistics\n",
    "print(statistics.median(s1))"
   ]
  },
  {
   "cell_type": "code",
   "execution_count": null,
   "metadata": {
    "collapsed": false
   },
   "outputs": [],
   "source": []
  },
  {
   "cell_type": "code",
   "execution_count": null,
   "metadata": {
    "collapsed": true
   },
   "outputs": [],
   "source": []
  },
  {
   "cell_type": "code",
   "execution_count": null,
   "metadata": {
    "collapsed": true
   },
   "outputs": [],
   "source": []
  },
  {
   "cell_type": "code",
   "execution_count": null,
   "metadata": {
    "collapsed": false
   },
   "outputs": [],
   "source": []
  },
  {
   "cell_type": "code",
   "execution_count": 53,
   "metadata": {
    "collapsed": false
   },
   "outputs": [
    {
     "ename": "StatisticsError",
     "evalue": "no unique mode; found 10 equally common values",
     "output_type": "error",
     "traceback": [
      "\u001b[1;31m---------------------------------------------------------------------------\u001b[0m",
      "\u001b[1;31mStatisticsError\u001b[0m                           Traceback (most recent call last)",
      "\u001b[1;32m<ipython-input-53-3d68625f0c45>\u001b[0m in \u001b[0;36m<module>\u001b[1;34m()\u001b[0m\n\u001b[1;32m----> 1\u001b[1;33m \u001b[0mtesti\u001b[0m\u001b[1;33m(\u001b[0m\u001b[0mstatistics\u001b[0m\u001b[1;33m.\u001b[0m\u001b[0mmode\u001b[0m\u001b[1;33m(\u001b[0m\u001b[0mtesti\u001b[0m\u001b[1;33m)\u001b[0m\u001b[1;33m)\u001b[0m\u001b[1;33m\u001b[0m\u001b[0m\n\u001b[0m",
      "\u001b[1;32m/usr/local/lib/python2.7/dist-packages/statistics/__init__.pyc\u001b[0m in \u001b[0;36mmode\u001b[1;34m(data)\u001b[0m\n\u001b[0;32m    434\u001b[0m     \u001b[1;32melif\u001b[0m \u001b[0mtable\u001b[0m\u001b[1;33m:\u001b[0m\u001b[1;33m\u001b[0m\u001b[0m\n\u001b[0;32m    435\u001b[0m         raise StatisticsError(\n\u001b[1;32m--> 436\u001b[1;33m                 \u001b[1;34mu'no unique mode; found %d equally common values'\u001b[0m \u001b[1;33m%\u001b[0m \u001b[0mlen\u001b[0m\u001b[1;33m(\u001b[0m\u001b[0mtable\u001b[0m\u001b[1;33m)\u001b[0m\u001b[1;33m\u001b[0m\u001b[0m\n\u001b[0m\u001b[0;32m    437\u001b[0m                 )\n\u001b[0;32m    438\u001b[0m     \u001b[1;32melse\u001b[0m\u001b[1;33m:\u001b[0m\u001b[1;33m\u001b[0m\u001b[0m\n",
      "\u001b[1;31mStatisticsError\u001b[0m: no unique mode; found 10 equally common values"
     ]
    }
   ],
   "source": []
  },
  {
   "cell_type": "code",
   "execution_count": null,
   "metadata": {
    "collapsed": true
   },
   "outputs": [],
   "source": []
  }
 ],
 "metadata": {
  "kernelspec": {
   "display_name": "Python 2",
   "language": "python",
   "name": "python2"
  },
  "language_info": {
   "codemirror_mode": {
    "name": "ipython",
    "version": 2
   },
   "file_extension": ".py",
   "mimetype": "text/x-python",
   "name": "python",
   "nbconvert_exporter": "python",
   "pygments_lexer": "ipython2",
   "version": "2.7.9"
  }
 },
 "nbformat": 4,
 "nbformat_minor": 0
}
